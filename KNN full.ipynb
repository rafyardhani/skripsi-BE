{
 "cells": [
  {
   "cell_type": "code",
   "execution_count": 1,
   "id": "76fedccf",
   "metadata": {},
   "outputs": [],
   "source": [
    "import pandas as pd\n",
    "from sklearn.preprocessing import LabelEncoder\n",
    "from sklearn.model_selection import train_test_split\n",
    "from sklearn.neighbors import KNeighborsClassifier\n",
    "from sklearn.metrics import confusion_matrix,accuracy_score,f1_score, recall_score"
   ]
  },
  {
   "cell_type": "code",
   "execution_count": 2,
   "id": "46956fc0",
   "metadata": {},
   "outputs": [
    {
     "name": "stdout",
     "output_type": "stream",
     "text": [
      "Confussion Matrix:  [[9 0 0 0]\n",
      " [0 6 0 0]\n",
      " [0 0 8 0]\n",
      " [0 2 0 6]]\n",
      "recall:  0.9354838709677419\n",
      "f1:  0.9354838709677419\n",
      "Accuration:  0.9354838709677419\n"
     ]
    },
    {
     "name": "stderr",
     "output_type": "stream",
     "text": [
      "C:\\Users\\acer\\AppData\\Local\\Programs\\Python\\Python310\\lib\\site-packages\\sklearn\\metrics\\_classification.py:1370: UserWarning: Note that pos_label (set to 'positive') is ignored when average != 'binary' (got 'micro'). You may use labels=[pos_label] to specify a single positive class.\n",
      "  warnings.warn(\n",
      "C:\\Users\\acer\\AppData\\Local\\Programs\\Python\\Python310\\lib\\site-packages\\sklearn\\metrics\\_classification.py:1370: UserWarning: Note that pos_label (set to 'positive') is ignored when average != 'binary' (got 'micro'). You may use labels=[pos_label] to specify a single positive class.\n",
      "  warnings.warn(\n"
     ]
    }
   ],
   "source": [
    "csv = 'data.csv'\n",
    "data = pd.read_csv(csv)\n",
    "df = pd.DataFrame(data)\n",
    "df = df.assign(kesehatan=df['nama'].str.split(\".\").str.get(0))\n",
    "label_encoder = LabelEncoder()\n",
    "df['warna_encode'] = label_encoder.fit_transform(df['warna'])\n",
    "df['bentuk_encode'] = label_encoder.fit_transform(df['bentuk'])\n",
    "df['kristal_encode'] = label_encoder.fit_transform(df['kristal'])\n",
    "df['kesehatan_encode'] = label_encoder.fit_transform(df['kesehatan'])\n",
    "df = df.drop(['id','warna','bentuk','kristal','kesehatan'], axis=1)\n",
    "\n",
    "X = df.iloc[:, [1, 2, 3]].values\n",
    "y = df.iloc[:, -1].values\n",
    "X_train, X_test, y_train, y_test = train_test_split(X, y, test_size = 0.30, random_state = 0)\n",
    "classifier = KNeighborsClassifier(n_neighbors = 10, metric = 'minkowski', p = 2)\n",
    "classifier.fit(X_train, y_train)\n",
    "y_pred = classifier.predict(X_test)\n",
    "\n",
    "cm = confusion_matrix(y_test, y_pred)\n",
    "recall= recall_score(y_test,y_pred,pos_label='positive',average='micro')\n",
    "f1= f1_score(y_test,y_pred,pos_label='positive',average='micro')\n",
    "ac = accuracy_score(y_test,y_pred)\n",
    "print(\"Confussion Matrix: \",cm)\n",
    "print(\"recall: \",recall)\n",
    "print(\"f1: \",f1)\n",
    "print(\"Accuration: \",ac)"
   ]
  }
 ],
 "metadata": {
  "kernelspec": {
   "display_name": "Python 3 (ipykernel)",
   "language": "python",
   "name": "python3"
  },
  "language_info": {
   "codemirror_mode": {
    "name": "ipython",
    "version": 3
   },
   "file_extension": ".py",
   "mimetype": "text/x-python",
   "name": "python",
   "nbconvert_exporter": "python",
   "pygments_lexer": "ipython3",
   "version": "3.10.1"
  },
  "toc": {
   "base_numbering": 1,
   "nav_menu": {},
   "number_sections": true,
   "sideBar": true,
   "skip_h1_title": false,
   "title_cell": "Table of Contents",
   "title_sidebar": "Contents",
   "toc_cell": false,
   "toc_position": {},
   "toc_section_display": true,
   "toc_window_display": false
  },
  "varInspector": {
   "cols": {
    "lenName": 16,
    "lenType": 16,
    "lenVar": 40
   },
   "kernels_config": {
    "python": {
     "delete_cmd_postfix": "",
     "delete_cmd_prefix": "del ",
     "library": "var_list.py",
     "varRefreshCmd": "print(var_dic_list())"
    },
    "r": {
     "delete_cmd_postfix": ") ",
     "delete_cmd_prefix": "rm(",
     "library": "var_list.r",
     "varRefreshCmd": "cat(var_dic_list()) "
    }
   },
   "types_to_exclude": [
    "module",
    "function",
    "builtin_function_or_method",
    "instance",
    "_Feature"
   ],
   "window_display": false
  }
 },
 "nbformat": 4,
 "nbformat_minor": 5
}
